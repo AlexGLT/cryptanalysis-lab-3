{
 "cells": [
  {
   "cell_type": "markdown",
   "metadata": {},
   "source": [
    "## Imports"
   ]
  },
  {
   "cell_type": "code",
   "execution_count": 1,
   "metadata": {},
   "outputs": [],
   "source": [
    "import gmpy2\n"
   ]
  },
  {
   "cell_type": "markdown",
   "metadata": {},
   "source": [
    "## Read info from files"
   ]
  },
  {
   "cell_type": "code",
   "execution_count": 2,
   "metadata": {},
   "outputs": [],
   "source": [
    "se = 'SE_12.txt'\n",
    "mitm = 'MitM_12.txt'\n",
    "\n",
    "se_C_data = []\n",
    "se_N_data = []\n",
    "mitm_data = []\n",
    "\n",
    "with open(se, 'r') as f:\n",
    "    lines = f.readlines()\n",
    "\n",
    "    for index in range(0, len(lines), 2):\n",
    "        se_C_data.append(int(lines[index].split('=')[1].strip(), base=16))\n",
    "        se_N_data.append(int(lines[index + 1].split('=')[1].strip(), base=16))\n",
    "\n",
    "with open(mitm, 'r') as f:\n",
    "    lines = f.readlines()\n",
    "    mitm_data.append(int(lines[0].split('=')[1].strip(), base=16))\n",
    "    mitm_data.append(int(lines[1].split('=')[1].strip(), base=16))\n"
   ]
  },
  {
   "cell_type": "code",
   "execution_count": null,
   "metadata": {},
   "outputs": [],
   "source": []
  }
 ],
 "metadata": {
  "kernelspec": {
   "display_name": "Python 3.10.7 64-bit",
   "language": "python",
   "name": "python3"
  },
  "language_info": {
   "codemirror_mode": {
    "name": "ipython",
    "version": 3
   },
   "file_extension": ".py",
   "mimetype": "text/x-python",
   "name": "python",
   "nbconvert_exporter": "python",
   "pygments_lexer": "ipython3",
   "version": "3.10.7"
  },
  "orig_nbformat": 4,
  "vscode": {
   "interpreter": {
    "hash": "369f2c481f4da34e4445cda3fffd2e751bd1c4d706f27375911949ba6bb62e1c"
   }
  }
 },
 "nbformat": 4,
 "nbformat_minor": 2
}
