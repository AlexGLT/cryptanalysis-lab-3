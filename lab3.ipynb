{
 "cells": [
  {
   "cell_type": "markdown",
   "metadata": {},
   "source": [
    "## Imports"
   ]
  },
  {
   "cell_type": "code",
   "execution_count": 1,
   "metadata": {},
   "outputs": [],
   "source": [
    "import gmpy2\n"
   ]
  },
  {
   "cell_type": "markdown",
   "metadata": {},
   "source": [
    "## Read info from files"
   ]
  },
  {
   "cell_type": "code",
   "execution_count": 2,
   "metadata": {},
   "outputs": [],
   "source": [
    "se = 'SE_12.txt'\n",
    "mitm = 'MitM_12.txt'\n",
    "\n",
    "se_C_data = []\n",
    "se_N_data = []\n",
    "mitm_data = []\n",
    "\n",
    "with open(se, 'r') as f:\n",
    "    lines = f.readlines()\n",
    "\n",
    "    for index in range(0, len(lines), 2):\n",
    "        se_C_data.append(int(lines[index].split('=')[1].strip(), base=16))\n",
    "        se_N_data.append(int(lines[index + 1].split('=')[1].strip(), base=16))\n",
    "\n",
    "with open(mitm, 'r') as f:\n",
    "    lines = f.readlines()\n",
    "    mitm_data.append(int(lines[0].split('=')[1].strip(), base=16))\n",
    "    mitm_data.append(int(lines[1].split('=')[1].strip(), base=16))\n"
   ]
  },
  {
   "cell_type": "markdown",
   "metadata": {},
   "source": [
    "## Chinese Remainder Theorem Attack"
   ]
  },
  {
   "cell_type": "code",
   "execution_count": 3,
   "metadata": {},
   "outputs": [],
   "source": [
    "def gcdExtended(a, b):\n",
    "    if a == 0 :\n",
    "        return b, 0, 1\n",
    "\n",
    "    gcd, u1, v1 = gcdExtended(b % a, a)\n",
    "\n",
    "    u = v1 - (b // a) * u1\n",
    "    v = u1\n",
    "\n",
    "    return gcd, u, v\n",
    "\n",
    "def CRT(arr_C, arr_N):\n",
    "\tif len(arr_C) != len(arr_N):\n",
    "\t\treturn None\n",
    "\n",
    "\tmain_modulo = 1\n",
    "\tfor elem in arr_N:\n",
    "\t\tmain_modulo *= elem\n",
    "\n",
    "\tmodules = [main_modulo // elem for elem in arr_N]\n",
    "\tanswer = 0\n",
    "\n",
    "\tfor index in range(len(arr_C)):\n",
    "\t\tgcd, u, v = gcdExtended(arr_N[index], modules[index])\n",
    "\n",
    "\t\tanswer += v * modules[index] * arr_C[index]\n",
    "\n",
    "\treturn answer % main_modulo\n"
   ]
  },
  {
   "cell_type": "code",
   "execution_count": 4,
   "metadata": {},
   "outputs": [
    {
     "name": "stdout",
     "output_type": "stream",
     "text": [
      "True\n"
     ]
    }
   ],
   "source": [
    "E = 5\n",
    "big_C = CRT(se_C_data, se_N_data)\n",
    "\n",
    "message = gmpy2.iroot(big_C, E)\n",
    "\n",
    "print(message[0] ** E == big_C)\n"
   ]
  },
  {
   "cell_type": "markdown",
   "metadata": {},
   "source": [
    "## Meet in the Middle Attack"
   ]
  },
  {
   "cell_type": "code",
   "execution_count": null,
   "metadata": {},
   "outputs": [],
   "source": [
    "def meet_in_the_middle(c, e, n, l):\n",
    "\tt_array = []\n",
    "\n",
    "\tcurrent_range = [*range(0, 1 << (l >> 1))]\n",
    "\n",
    "\tfor i in current_range:\n",
    "\t\tt_array.append(gmpy2.powmod(i + 1, e, n))\n",
    "\n",
    "\tfor i in current_range:\n",
    "\t\tc_s = gmpy2.f_mod(gmpy2.mul(c, gmpy2.invert(t_array[i], n)), n)\n",
    "\n",
    "\t\tfor j in current_range:\n",
    "\t\t\tif c_s == t_array[j]:\n",
    "\t\t\t\treturn (i + 1, j + 1)\n",
    "\n",
    "\treturn None\n"
   ]
  },
  {
   "cell_type": "code",
   "execution_count": null,
   "metadata": {},
   "outputs": [],
   "source": [
    "c, n = mitm_data\n",
    "e = 65537\n",
    "l = 20\n",
    "\n",
    "result = meet_in_the_middle(c, e, n, l)\n",
    "\n",
    "if result != None:\n",
    "\tt, s = result\n",
    "\tprint(gmpy2.powmod(t * s, e, n) == c)\n",
    "else:\n",
    "\tprint(':(')\n"
   ]
  }
 ],
 "metadata": {
  "kernelspec": {
   "display_name": "Python 3.10.7 64-bit",
   "language": "python",
   "name": "python3"
  },
  "language_info": {
   "codemirror_mode": {
    "name": "ipython",
    "version": 3
   },
   "file_extension": ".py",
   "mimetype": "text/x-python",
   "name": "python",
   "nbconvert_exporter": "python",
   "pygments_lexer": "ipython3",
   "version": "3.10.7"
  },
  "orig_nbformat": 4,
  "vscode": {
   "interpreter": {
    "hash": "369f2c481f4da34e4445cda3fffd2e751bd1c4d706f27375911949ba6bb62e1c"
   }
  }
 },
 "nbformat": 4,
 "nbformat_minor": 2
}
